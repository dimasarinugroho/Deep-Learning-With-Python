{
  "nbformat": 4,
  "nbformat_minor": 0,
  "metadata": {
    "colab": {
      "name": "Tensor_Operations.ipynb",
      "provenance": [],
      "collapsed_sections": [],
      "authorship_tag": "ABX9TyM55Sj8ULJcm+ILihkNDu8P",
      "include_colab_link": true
    },
    "kernelspec": {
      "name": "python3",
      "display_name": "Python 3"
    }
  },
  "cells": [
    {
      "cell_type": "markdown",
      "metadata": {
        "id": "view-in-github",
        "colab_type": "text"
      },
      "source": [
        "<a href=\"https://colab.research.google.com/github/dimasarinugroho/Deep-Learning-With-Python/blob/master/Tensor_Operations.ipynb\" target=\"_parent\"><img src=\"https://colab.research.google.com/assets/colab-badge.svg\" alt=\"Open In Colab\"/></a>"
      ]
    },
    {
      "cell_type": "markdown",
      "metadata": {
        "id": "9_qcHfKHMiZt"
      },
      "source": [
        "Nama: Dimas Ari Nugroho\n"
      ]
    },
    {
      "cell_type": "markdown",
      "metadata": {
        "id": "WPaQq7OsNCOk"
      },
      "source": [
        "Status: Freelance / S1 Matematika ITS"
      ]
    },
    {
      "cell_type": "markdown",
      "metadata": {
        "id": "5A81KS-XND6V"
      },
      "source": [
        "Spesialisasi : Data Science dan Data Analyst\n"
      ]
    },
    {
      "cell_type": "markdown",
      "metadata": {
        "id": "319nnSabNFRF"
      },
      "source": [
        "Topik pembahasan : mengimplementasikan tensor pada python untuk multi-dimensional array"
      ]
    },
    {
      "cell_type": "markdown",
      "metadata": {
        "id": "jtoSEpMPrXvl"
      },
      "source": [
        "**1. Data Representation**"
      ]
    },
    {
      "cell_type": "markdown",
      "metadata": {
        "id": "Tb1ldnSMrc5N"
      },
      "source": [
        "**Tensors**\n",
        "\n",
        "\n",
        "*   Tensor merupakan wadah bagi suatu data\n",
        "*   Matriks --> Tensor 2D\n",
        "*   Tensor merupakan generalisasi pada matriks untuk angka yang berubah-ubah pada suatu dimensi\n",
        "*   Dimensi yang dimaksud pada terminologi tensor merupakan Axis / Grafik\n",
        "\n"
      ]
    },
    {
      "cell_type": "markdown",
      "metadata": {
        "id": "iI4HQ1cDsEcg"
      },
      "source": [
        "**Scalars**"
      ]
    },
    {
      "cell_type": "markdown",
      "metadata": {
        "id": "yOy4QXcFsNZx"
      },
      "source": [
        "\n",
        "\n",
        "*   Tensor yang memuat hanya satu angka --> skalar(i.e 0 dim atau 0D tensor)\n",
        "*   float32 atau float64 (untuk numpy) --> tensor skalar(array skalar)\n",
        "*   menggunakan 'ndim' --> menampilkan jumlah axes / grafik\n",
        "*   tensor skalar memiliki 0 axes / grafik (ndim=0)\n",
        "*   Rank --> jumlah axes / grafik pada tensor\n",
        "\n"
      ]
    },
    {
      "cell_type": "code",
      "metadata": {
        "id": "NcpjfxABtDh3"
      },
      "source": [
        "#import numpy\n",
        "import numpy as np"
      ],
      "execution_count": 1,
      "outputs": []
    },
    {
      "cell_type": "code",
      "metadata": {
        "id": "nWa1C_PQtH6Z"
      },
      "source": [
        "x = np.array(104)"
      ],
      "execution_count": 2,
      "outputs": []
    },
    {
      "cell_type": "code",
      "metadata": {
        "id": "PFHgNrG6tQov",
        "outputId": "e608260a-3612-4625-98f5-18138eff1dbc",
        "colab": {
          "base_uri": "https://localhost:8080/",
          "height": 34
        }
      },
      "source": [
        "x"
      ],
      "execution_count": 3,
      "outputs": [
        {
          "output_type": "execute_result",
          "data": {
            "text/plain": [
              "array(104)"
            ]
          },
          "metadata": {
            "tags": []
          },
          "execution_count": 3
        }
      ]
    },
    {
      "cell_type": "code",
      "metadata": {
        "id": "4mc0Ny7CtU5v",
        "outputId": "f9988a06-1fdc-421e-b7ca-eac68698cd84",
        "colab": {
          "base_uri": "https://localhost:8080/",
          "height": 34
        }
      },
      "source": [
        "x.ndim"
      ],
      "execution_count": 4,
      "outputs": [
        {
          "output_type": "execute_result",
          "data": {
            "text/plain": [
              "0"
            ]
          },
          "metadata": {
            "tags": []
          },
          "execution_count": 4
        }
      ]
    },
    {
      "cell_type": "markdown",
      "metadata": {
        "id": "2qCGL6uOt-Wu"
      },
      "source": [
        "**2. Vectors**"
      ]
    },
    {
      "cell_type": "markdown",
      "metadata": {
        "id": "UcH3vzy1uBgX"
      },
      "source": [
        "\n",
        "\n",
        "*   Angka pada suatu array --> Vektor / 1D tensors\n",
        "*   1D tensors hanya mempunyai 1 axes / grafik\n",
        "\n"
      ]
    },
    {
      "cell_type": "code",
      "metadata": {
        "id": "_w9em_efuV4m"
      },
      "source": [
        "x = np.array([12, 34, 68, 104, 5])"
      ],
      "execution_count": 5,
      "outputs": []
    },
    {
      "cell_type": "code",
      "metadata": {
        "id": "LVw60fhaufgH",
        "outputId": "f56e3fc3-f600-462f-b769-006185d372ca",
        "colab": {
          "base_uri": "https://localhost:8080/",
          "height": 34
        }
      },
      "source": [
        "x"
      ],
      "execution_count": 6,
      "outputs": [
        {
          "output_type": "execute_result",
          "data": {
            "text/plain": [
              "array([ 12,  34,  68, 104,   5])"
            ]
          },
          "metadata": {
            "tags": []
          },
          "execution_count": 6
        }
      ]
    },
    {
      "cell_type": "code",
      "metadata": {
        "id": "s99jFhQDugo-",
        "outputId": "0f8fe8d8-e3f9-47c0-8fbf-d8bdaf5f05a9",
        "colab": {
          "base_uri": "https://localhost:8080/",
          "height": 34
        }
      },
      "source": [
        "x.ndim"
      ],
      "execution_count": 7,
      "outputs": [
        {
          "output_type": "execute_result",
          "data": {
            "text/plain": [
              "1"
            ]
          },
          "metadata": {
            "tags": []
          },
          "execution_count": 7
        }
      ]
    },
    {
      "cell_type": "code",
      "metadata": {
        "id": "uVH878uIF0jG",
        "outputId": "dcfa00cc-2cc5-4f35-ed91-40c5d7f6e3d5",
        "colab": {
          "base_uri": "https://localhost:8080/",
          "height": 51
        }
      },
      "source": [
        "print(\"type is: \", type(x))\n",
        "print(\"dtype is: \", x.dtype)"
      ],
      "execution_count": 8,
      "outputs": [
        {
          "output_type": "stream",
          "text": [
            "type is:  <class 'numpy.ndarray'>\n",
            "dtype is:  int64\n"
          ],
          "name": "stdout"
        }
      ]
    },
    {
      "cell_type": "markdown",
      "metadata": {
        "id": "lXPVFvkz_6Ye"
      },
      "source": [
        "**3. Tentang Vektor**\n",
        "*   Vektor 5-dimensi\n",
        "*   Vektor 5-dimensi vs Tensor 5-dimensi\n",
        "    *   Vektor 5-dimensi hanya mempunyai 1 sumbu dan memiliki 5 dimensi sepanjang sumbu\n",
        "    *   Tensor 5-dimensi hanya mempunyai 1 sumbu dan memiliki 5 dimensi sepanjang sumbu\n",
        "\n",
        "    **Membingungkan!!**\n",
        "    *   Dimensi dapat menunjukkan jumlah entri di sepanjang sumbu tertentu (pada kasus Vektor 5-dimensi)\n",
        "    *   Jumlah sumbu pada tensor (sebagai contoh Tensor 5-dimensi)\n",
        "\n",
        "    **Penggunaan *Rank*** \n",
        "    *   *Rank* --> Jumlah sumbu pada tensor\n",
        "    *   Jadi gunakan --> Tensor peringkat 5    \n",
        "\n",
        "\n",
        "\n",
        "\n",
        "\n"
      ]
    },
    {
      "cell_type": "markdown",
      "metadata": {
        "id": "Y6Uu_ZUNCd2T"
      },
      "source": [
        "**Matriks**\n",
        "*   Vektor pada suatu *array* dikatakan matriks, atau 2D tensor\n",
        "*   Matiks memiliki dua sumbu, baris dan kolom\n",
        "\n"
      ]
    },
    {
      "cell_type": "code",
      "metadata": {
        "id": "XgtVzmT271qJ"
      },
      "source": [
        "x=np.array([[51, 70, 2, 32, 3], \n",
        "           [69, 7, 3, 35, 10], \n",
        "           [1, 8, 4, 6, 9]])"
      ],
      "execution_count": 9,
      "outputs": []
    },
    {
      "cell_type": "code",
      "metadata": {
        "id": "xcDNEfp-DRe8",
        "outputId": "8ffd90a9-da50-4bad-a796-b64b27b27ec7",
        "colab": {
          "base_uri": "https://localhost:8080/",
          "height": 68
        }
      },
      "source": [
        "x"
      ],
      "execution_count": 10,
      "outputs": [
        {
          "output_type": "execute_result",
          "data": {
            "text/plain": [
              "array([[51, 70,  2, 32,  3],\n",
              "       [69,  7,  3, 35, 10],\n",
              "       [ 1,  8,  4,  6,  9]])"
            ]
          },
          "metadata": {
            "tags": []
          },
          "execution_count": 10
        }
      ]
    },
    {
      "cell_type": "code",
      "metadata": {
        "id": "-ZU21hTt8ZXm",
        "outputId": "7f7023d1-82b6-4881-cd78-7c622d6846f4",
        "colab": {
          "base_uri": "https://localhost:8080/",
          "height": 34
        }
      },
      "source": [
        "x.ndim"
      ],
      "execution_count": 11,
      "outputs": [
        {
          "output_type": "execute_result",
          "data": {
            "text/plain": [
              "2"
            ]
          },
          "metadata": {
            "tags": []
          },
          "execution_count": 11
        }
      ]
    },
    {
      "cell_type": "markdown",
      "metadata": {
        "id": "jM4k_WScDhRF"
      },
      "source": [
        "**Vektor 3-Dimensi**"
      ]
    },
    {
      "cell_type": "code",
      "metadata": {
        "id": "tom91nZvDk7e"
      },
      "source": [
        "x = np.array([\n",
        "         [[51, 70, 2, 32, 3], \n",
        "           [69, 7, 3, 35, 10], \n",
        "           [1, 8, 4, 6, 9]],\n",
        "\n",
        "           [[51, 70, 2, 32, 3], \n",
        "           [69, 7, 3, 35, 10], \n",
        "           [1, 8, 4, 6, 9]],\n",
        "\n",
        "           [[51, 70, 2, 32, 3], \n",
        "           [69, 7, 3, 35, 10], \n",
        "           [1, 8, 4, 6, 9]]     \n",
        "])"
      ],
      "execution_count": 12,
      "outputs": []
    },
    {
      "cell_type": "code",
      "metadata": {
        "id": "3rYfQXf7D_uL",
        "outputId": "f7339138-3ee5-471e-86b9-7d64c5902754",
        "colab": {
          "base_uri": "https://localhost:8080/",
          "height": 204
        }
      },
      "source": [
        "x"
      ],
      "execution_count": 13,
      "outputs": [
        {
          "output_type": "execute_result",
          "data": {
            "text/plain": [
              "array([[[51, 70,  2, 32,  3],\n",
              "        [69,  7,  3, 35, 10],\n",
              "        [ 1,  8,  4,  6,  9]],\n",
              "\n",
              "       [[51, 70,  2, 32,  3],\n",
              "        [69,  7,  3, 35, 10],\n",
              "        [ 1,  8,  4,  6,  9]],\n",
              "\n",
              "       [[51, 70,  2, 32,  3],\n",
              "        [69,  7,  3, 35, 10],\n",
              "        [ 1,  8,  4,  6,  9]]])"
            ]
          },
          "metadata": {
            "tags": []
          },
          "execution_count": 13
        }
      ]
    },
    {
      "cell_type": "code",
      "metadata": {
        "id": "ow22TTeYED1b",
        "outputId": "a4d111d0-00e0-4f47-eefa-f02ca8f52228",
        "colab": {
          "base_uri": "https://localhost:8080/",
          "height": 34
        }
      },
      "source": [
        "x.ndim"
      ],
      "execution_count": 14,
      "outputs": [
        {
          "output_type": "execute_result",
          "data": {
            "text/plain": [
              "3"
            ]
          },
          "metadata": {
            "tags": []
          },
          "execution_count": 14
        }
      ]
    },
    {
      "cell_type": "code",
      "metadata": {
        "id": "BUelit6VFPWp",
        "outputId": "454e1a22-4d15-4c74-a45f-72ea73791fa3",
        "colab": {
          "base_uri": "https://localhost:8080/",
          "height": 51
        }
      },
      "source": [
        "print(\"type is: \", type(x))\n",
        "print(\"dtype is: \", x.dtype)"
      ],
      "execution_count": 15,
      "outputs": [
        {
          "output_type": "stream",
          "text": [
            "type is:  <class 'numpy.ndarray'>\n",
            "dtype is:  int64\n"
          ],
          "name": "stdout"
        }
      ]
    },
    {
      "cell_type": "markdown",
      "metadata": {
        "id": "RlxPUeZZHuxS"
      },
      "source": [
        "**Operasi pada Tensor**\n",
        "\n",
        "*   Element-Wise operations\n",
        "*   Addition or different shaped tensors\n",
        "*   dot product\n",
        "*   reshaping\n",
        "\n",
        "**Element-Wise operations**\n",
        "\n",
        "*   Add, Subtraction etc\n",
        "\n"
      ]
    },
    {
      "cell_type": "code",
      "metadata": {
        "id": "tvWCtfoWIrPA"
      },
      "source": [
        "def my_add(x, y):\n",
        "  assert len(x.shape)==2\n",
        "  assert x.shape == y.shape     # x, y ---> 2D numpy tensors\n",
        "\n",
        "  x = x.copy()      # avoida overwriting the input sensors\n",
        "\n",
        "  for i in range(x.shape[0]):\n",
        "    for j in range(y.shape[1]):\n",
        "      x[i, j] = x[i, j] + y[i, j]\n",
        "  return x"
      ],
      "execution_count": 16,
      "outputs": []
    },
    {
      "cell_type": "code",
      "metadata": {
        "id": "a1mz5G3UKVeK"
      },
      "source": [
        "x=np.array([[5.2, 2, 78, 2, 34], \n",
        "           [6, 79, 3, 35, 1], \n",
        "           [7, 80, 4, 36, 2]])"
      ],
      "execution_count": 17,
      "outputs": []
    },
    {
      "cell_type": "code",
      "metadata": {
        "id": "DybLfV0PKqYX",
        "outputId": "29f92559-145b-4abe-ac5e-292989ea1568",
        "colab": {
          "base_uri": "https://localhost:8080/",
          "height": 34
        }
      },
      "source": [
        "x.ndim"
      ],
      "execution_count": 18,
      "outputs": [
        {
          "output_type": "execute_result",
          "data": {
            "text/plain": [
              "2"
            ]
          },
          "metadata": {
            "tags": []
          },
          "execution_count": 18
        }
      ]
    },
    {
      "cell_type": "code",
      "metadata": {
        "id": "9yFbE5JAKxFW",
        "outputId": "9e6b2458-8286-4d6a-f8e1-1ce86327150c",
        "colab": {
          "base_uri": "https://localhost:8080/",
          "height": 34
        }
      },
      "source": [
        "x.shape[0]\n"
      ],
      "execution_count": 19,
      "outputs": [
        {
          "output_type": "execute_result",
          "data": {
            "text/plain": [
              "3"
            ]
          },
          "metadata": {
            "tags": []
          },
          "execution_count": 19
        }
      ]
    },
    {
      "cell_type": "code",
      "metadata": {
        "id": "pz-pYxfFK2O4",
        "outputId": "f40ec855-077c-487f-f0d7-85822c6db264",
        "colab": {
          "base_uri": "https://localhost:8080/",
          "height": 34
        }
      },
      "source": [
        "x.shape[1]"
      ],
      "execution_count": 20,
      "outputs": [
        {
          "output_type": "execute_result",
          "data": {
            "text/plain": [
              "5"
            ]
          },
          "metadata": {
            "tags": []
          },
          "execution_count": 20
        }
      ]
    },
    {
      "cell_type": "code",
      "metadata": {
        "id": "6aRNn4qvK9i1"
      },
      "source": [
        "r = x.shape"
      ],
      "execution_count": 21,
      "outputs": []
    },
    {
      "cell_type": "code",
      "metadata": {
        "id": "0czjFQBaLAdy",
        "outputId": "891ff4b9-ec1c-4b74-dfd9-4236ede694b1",
        "colab": {
          "base_uri": "https://localhost:8080/",
          "height": 34
        }
      },
      "source": [
        "print(r[0], r[1])"
      ],
      "execution_count": 22,
      "outputs": [
        {
          "output_type": "stream",
          "text": [
            "3 5\n"
          ],
          "name": "stdout"
        }
      ]
    },
    {
      "cell_type": "code",
      "metadata": {
        "id": "fzUl8_jI7Vk8"
      },
      "source": [
        "y = np.array([[4,2,1,3,0],\n",
        "               [6,1,3,5,2],\n",
        "              [7,8,4,6,2]])"
      ],
      "execution_count": 23,
      "outputs": []
    },
    {
      "cell_type": "code",
      "metadata": {
        "id": "_al2bD_57wz3",
        "outputId": "3f7a7381-8f9e-48cc-d0c4-d72538f65155",
        "colab": {
          "base_uri": "https://localhost:8080/",
          "height": 34
        }
      },
      "source": [
        "y.ndim"
      ],
      "execution_count": 24,
      "outputs": [
        {
          "output_type": "execute_result",
          "data": {
            "text/plain": [
              "2"
            ]
          },
          "metadata": {
            "tags": []
          },
          "execution_count": 24
        }
      ]
    },
    {
      "cell_type": "code",
      "metadata": {
        "id": "CkCaMLL88wjm"
      },
      "source": [
        "z = my_add(x, y)"
      ],
      "execution_count": 25,
      "outputs": []
    },
    {
      "cell_type": "code",
      "metadata": {
        "id": "8pbIb-QC89ZW",
        "outputId": "905c44d2-df5a-4ab9-d192-1f1ab966013a",
        "colab": {
          "base_uri": "https://localhost:8080/",
          "height": 68
        }
      },
      "source": [
        "z"
      ],
      "execution_count": 26,
      "outputs": [
        {
          "output_type": "execute_result",
          "data": {
            "text/plain": [
              "array([[ 9.2,  4. , 79. ,  5. , 34. ],\n",
              "       [12. , 80. ,  6. , 40. ,  3. ],\n",
              "       [14. , 88. ,  8. , 42. ,  4. ]])"
            ]
          },
          "metadata": {
            "tags": []
          },
          "execution_count": 26
        }
      ]
    },
    {
      "cell_type": "markdown",
      "metadata": {
        "id": "Evg69EXi9OGL"
      },
      "source": [
        "**Using Numpy Array**"
      ]
    },
    {
      "cell_type": "code",
      "metadata": {
        "id": "D2Hs_7Nx9SWE"
      },
      "source": [
        "# Add operations using numpy\n",
        "\n",
        "z = x + y"
      ],
      "execution_count": 27,
      "outputs": []
    },
    {
      "cell_type": "code",
      "metadata": {
        "id": "pesqtBdB9X7H",
        "outputId": "ab92931e-2fae-48b1-cf7c-1fe2d361c682",
        "colab": {
          "base_uri": "https://localhost:8080/",
          "height": 68
        }
      },
      "source": [
        "z"
      ],
      "execution_count": 28,
      "outputs": [
        {
          "output_type": "execute_result",
          "data": {
            "text/plain": [
              "array([[ 9.2,  4. , 79. ,  5. , 34. ],\n",
              "       [12. , 80. ,  6. , 40. ,  3. ],\n",
              "       [14. , 88. ,  8. , 42. ,  4. ]])"
            ]
          },
          "metadata": {
            "tags": []
          },
          "execution_count": 28
        }
      ]
    },
    {
      "cell_type": "code",
      "metadata": {
        "id": "1C4Gngon-WcM"
      },
      "source": [
        "# set elements less than a particular value to max\n",
        "z = np.maximum(y, 5.)"
      ],
      "execution_count": 29,
      "outputs": []
    },
    {
      "cell_type": "code",
      "metadata": {
        "id": "4EZ-1a9D-i3R",
        "outputId": "b1a2b8b8-9644-4494-f202-b3b8df94fc99",
        "colab": {
          "base_uri": "https://localhost:8080/",
          "height": 68
        }
      },
      "source": [
        "z"
      ],
      "execution_count": 30,
      "outputs": [
        {
          "output_type": "execute_result",
          "data": {
            "text/plain": [
              "array([[5., 5., 5., 5., 5.],\n",
              "       [6., 5., 5., 5., 5.],\n",
              "       [7., 8., 5., 6., 5.]])"
            ]
          },
          "metadata": {
            "tags": []
          },
          "execution_count": 30
        }
      ]
    },
    {
      "cell_type": "markdown",
      "metadata": {
        "id": "2eRbXqsND5FI"
      },
      "source": [
        "**Adding dissimilar tensors**"
      ]
    },
    {
      "cell_type": "code",
      "metadata": {
        "id": "sKkndvZ7--L_"
      },
      "source": [
        "def my_add_matrix_and_vector(x, y):\n",
        "  assert len(x.shape) == 2\n",
        "  assert len(y.shape) == 1\n",
        "  assert x.shape[1] == y.shape[0]\n",
        "\n",
        "  x = x.copy()\n",
        "  for i in range(x.shape[0]):\n",
        "    for j in range(x.shape[1]):\n",
        "      x[i, j] = x[i, j] + y[j]\n",
        "  return x"
      ],
      "execution_count": 31,
      "outputs": []
    },
    {
      "cell_type": "code",
      "metadata": {
        "id": "XNQ-wK9H_nnO"
      },
      "source": [
        "x=np.array([[5.2, 2, 78, 2, 34], \n",
        "           [6, 79, 3, 35, 1], \n",
        "           [7, 80, 4, 36, 2]])"
      ],
      "execution_count": 32,
      "outputs": []
    },
    {
      "cell_type": "code",
      "metadata": {
        "id": "_lCs8v1F_5VQ",
        "outputId": "26bda224-53d3-4d82-fd9b-98d5888e3bab",
        "colab": {
          "base_uri": "https://localhost:8080/",
          "height": 34
        }
      },
      "source": [
        "x.ndim    # len(x.shape)"
      ],
      "execution_count": 33,
      "outputs": [
        {
          "output_type": "execute_result",
          "data": {
            "text/plain": [
              "2"
            ]
          },
          "metadata": {
            "tags": []
          },
          "execution_count": 33
        }
      ]
    },
    {
      "cell_type": "code",
      "metadata": {
        "id": "zq3j9US6AAfZ"
      },
      "source": [
        "y=np.array([1, 2, 3, 1, 2])"
      ],
      "execution_count": 34,
      "outputs": []
    },
    {
      "cell_type": "code",
      "metadata": {
        "id": "yvun6dmPAJvg",
        "outputId": "4432e1d7-38af-413a-8445-7c9abc2b9a01",
        "colab": {
          "base_uri": "https://localhost:8080/",
          "height": 34
        }
      },
      "source": [
        "y.ndim  # len(y.shape)"
      ],
      "execution_count": 35,
      "outputs": [
        {
          "output_type": "execute_result",
          "data": {
            "text/plain": [
              "1"
            ]
          },
          "metadata": {
            "tags": []
          },
          "execution_count": 35
        }
      ]
    },
    {
      "cell_type": "code",
      "metadata": {
        "id": "Yi9WL3q-B6K9"
      },
      "source": [
        "z = my_add_matrix_and_vector(x,y)"
      ],
      "execution_count": 36,
      "outputs": []
    },
    {
      "cell_type": "code",
      "metadata": {
        "id": "he5d0fAzB_nR",
        "outputId": "51a90092-bc70-45c9-d9af-d158e86359a6",
        "colab": {
          "base_uri": "https://localhost:8080/",
          "height": 68
        }
      },
      "source": [
        "z"
      ],
      "execution_count": 37,
      "outputs": [
        {
          "output_type": "execute_result",
          "data": {
            "text/plain": [
              "array([[ 6.2,  4. , 81. ,  3. , 36. ],\n",
              "       [ 7. , 81. ,  6. , 36. ,  3. ],\n",
              "       [ 8. , 82. ,  7. , 37. ,  4. ]])"
            ]
          },
          "metadata": {
            "tags": []
          },
          "execution_count": 37
        }
      ]
    },
    {
      "cell_type": "code",
      "metadata": {
        "id": "tHIjoCg_CoP0"
      },
      "source": [
        "a = np.random.random((1, 2, 3, 10))"
      ],
      "execution_count": 38,
      "outputs": []
    },
    {
      "cell_type": "code",
      "metadata": {
        "id": "REjQQrtWCwi5",
        "outputId": "2f58dabc-d0c7-4e05-f880-f93b573137ad",
        "colab": {
          "base_uri": "https://localhost:8080/",
          "height": 34
        }
      },
      "source": [
        "a.ndim"
      ],
      "execution_count": 39,
      "outputs": [
        {
          "output_type": "execute_result",
          "data": {
            "text/plain": [
              "4"
            ]
          },
          "metadata": {
            "tags": []
          },
          "execution_count": 39
        }
      ]
    },
    {
      "cell_type": "code",
      "metadata": {
        "id": "dC_4O2EECy43",
        "outputId": "49e8ebde-80f7-4191-a8d0-9c3bde546fc6",
        "colab": {
          "base_uri": "https://localhost:8080/",
          "height": 238
        }
      },
      "source": [
        "a"
      ],
      "execution_count": 40,
      "outputs": [
        {
          "output_type": "execute_result",
          "data": {
            "text/plain": [
              "array([[[[0.81289423, 0.34490283, 0.22553859, 0.0906605 , 0.62210018,\n",
              "          0.79581232, 0.71866624, 0.3790127 , 0.1765873 , 0.42575715],\n",
              "         [0.60934901, 0.88159582, 0.73035199, 0.07253202, 0.50642523,\n",
              "          0.85550255, 0.90487954, 0.16179967, 0.86871598, 0.74876808],\n",
              "         [0.68609735, 0.44498136, 0.93922147, 0.91873403, 0.21096576,\n",
              "          0.84580862, 0.51942039, 0.75521665, 0.56453815, 0.99851924]],\n",
              "\n",
              "        [[0.63986026, 0.1812244 , 0.7168835 , 0.43589033, 0.23953237,\n",
              "          0.29833066, 0.70755032, 0.70641521, 0.37900149, 0.58894889],\n",
              "         [0.4412931 , 0.37038816, 0.91905938, 0.56346506, 0.00250187,\n",
              "          0.2547697 , 0.75981707, 0.78913231, 0.15889401, 0.92121309],\n",
              "         [0.08209148, 0.26751344, 0.32981685, 0.7487602 , 0.06462906,\n",
              "          0.51841315, 0.31375828, 0.22097017, 0.7525236 , 0.63395055]]]])"
            ]
          },
          "metadata": {
            "tags": []
          },
          "execution_count": 40
        }
      ]
    },
    {
      "cell_type": "code",
      "metadata": {
        "id": "Jglx-oV8DY1v"
      },
      "source": [
        "b = np.random.random((3, 10))"
      ],
      "execution_count": 41,
      "outputs": []
    },
    {
      "cell_type": "code",
      "metadata": {
        "id": "z-Cop7DjDmfJ",
        "outputId": "26df5827-2e4f-43b5-eb43-eb506705c9c9",
        "colab": {
          "base_uri": "https://localhost:8080/",
          "height": 34
        }
      },
      "source": [
        "b.ndim"
      ],
      "execution_count": 42,
      "outputs": [
        {
          "output_type": "execute_result",
          "data": {
            "text/plain": [
              "2"
            ]
          },
          "metadata": {
            "tags": []
          },
          "execution_count": 42
        }
      ]
    },
    {
      "cell_type": "code",
      "metadata": {
        "id": "rRCIgmKwDtJ-",
        "outputId": "393add3c-22b9-4c01-94c9-cd519927a6a1",
        "colab": {
          "base_uri": "https://localhost:8080/",
          "height": 119
        }
      },
      "source": [
        "b"
      ],
      "execution_count": 43,
      "outputs": [
        {
          "output_type": "execute_result",
          "data": {
            "text/plain": [
              "array([[0.31686594, 0.52880077, 0.26364508, 0.36373623, 0.24231241,\n",
              "        0.28740037, 0.14855233, 0.79106772, 0.33606578, 0.37854366],\n",
              "       [0.71667887, 0.61917797, 0.53258471, 0.5674172 , 0.2901436 ,\n",
              "        0.04382906, 0.99475237, 0.23479833, 0.23664987, 0.12583592],\n",
              "       [0.93000709, 0.32500351, 0.03914433, 0.98911518, 0.18403594,\n",
              "        0.94802692, 0.53050875, 0.65510235, 0.0845398 , 0.95772211]])"
            ]
          },
          "metadata": {
            "tags": []
          },
          "execution_count": 43
        }
      ]
    },
    {
      "cell_type": "code",
      "metadata": {
        "id": "7UZ-E04iEaQU"
      },
      "source": [
        "c = np.maximum(a, b)"
      ],
      "execution_count": 44,
      "outputs": []
    },
    {
      "cell_type": "code",
      "metadata": {
        "id": "VJT1zj-tEkPe",
        "outputId": "1240b0db-97ad-452b-d93f-403ff2c5a04c",
        "colab": {
          "base_uri": "https://localhost:8080/",
          "height": 238
        }
      },
      "source": [
        "c"
      ],
      "execution_count": 45,
      "outputs": [
        {
          "output_type": "execute_result",
          "data": {
            "text/plain": [
              "array([[[[0.81289423, 0.52880077, 0.26364508, 0.36373623, 0.62210018,\n",
              "          0.79581232, 0.71866624, 0.79106772, 0.33606578, 0.42575715],\n",
              "         [0.71667887, 0.88159582, 0.73035199, 0.5674172 , 0.50642523,\n",
              "          0.85550255, 0.99475237, 0.23479833, 0.86871598, 0.74876808],\n",
              "         [0.93000709, 0.44498136, 0.93922147, 0.98911518, 0.21096576,\n",
              "          0.94802692, 0.53050875, 0.75521665, 0.56453815, 0.99851924]],\n",
              "\n",
              "        [[0.63986026, 0.52880077, 0.7168835 , 0.43589033, 0.24231241,\n",
              "          0.29833066, 0.70755032, 0.79106772, 0.37900149, 0.58894889],\n",
              "         [0.71667887, 0.61917797, 0.91905938, 0.5674172 , 0.2901436 ,\n",
              "          0.2547697 , 0.99475237, 0.78913231, 0.23664987, 0.92121309],\n",
              "         [0.93000709, 0.32500351, 0.32981685, 0.98911518, 0.18403594,\n",
              "          0.94802692, 0.53050875, 0.65510235, 0.7525236 , 0.95772211]]]])"
            ]
          },
          "metadata": {
            "tags": []
          },
          "execution_count": 45
        }
      ]
    },
    {
      "cell_type": "markdown",
      "metadata": {
        "id": "CEA9MuqpEz48"
      },
      "source": [
        "**Dot Product**"
      ]
    },
    {
      "cell_type": "code",
      "metadata": {
        "id": "upYZS_s9E2Ws"
      },
      "source": [
        "def my_vector_dot(x,y):\n",
        "  assert len(x.shape) == 1\n",
        "  assert len(y.shape) == 1\n",
        "  assert x.shape[0] == y.shape[0]\n",
        "\n",
        "  z = 0\n",
        "  for i in range (x.shape[0]):\n",
        "    z = z + x[i]*y[i]\n",
        "  return z"
      ],
      "execution_count": 46,
      "outputs": []
    },
    {
      "cell_type": "code",
      "metadata": {
        "id": "wPQGJxA1FyXe"
      },
      "source": [
        "a = np.array([5, 2, 3, 4, 6])"
      ],
      "execution_count": 47,
      "outputs": []
    },
    {
      "cell_type": "code",
      "metadata": {
        "id": "UCFwGyPyF2gh"
      },
      "source": [
        "b = np.array([3, 2, 4, 1, 5])"
      ],
      "execution_count": 48,
      "outputs": []
    },
    {
      "cell_type": "code",
      "metadata": {
        "id": "k2mLtw3iF-AD"
      },
      "source": [
        "c = my_vector_dot(a, b)"
      ],
      "execution_count": 49,
      "outputs": []
    },
    {
      "cell_type": "code",
      "metadata": {
        "id": "f9IdP4zpGCz5",
        "outputId": "8e029235-6be5-4f56-ab58-1277307f0142",
        "colab": {
          "base_uri": "https://localhost:8080/",
          "height": 34
        }
      },
      "source": [
        "c"
      ],
      "execution_count": 50,
      "outputs": [
        {
          "output_type": "execute_result",
          "data": {
            "text/plain": [
              "65"
            ]
          },
          "metadata": {
            "tags": []
          },
          "execution_count": 50
        }
      ]
    },
    {
      "cell_type": "code",
      "metadata": {
        "id": "58ttb076GFPo"
      },
      "source": [
        "c = np.dot(a, b)"
      ],
      "execution_count": 51,
      "outputs": []
    },
    {
      "cell_type": "code",
      "metadata": {
        "id": "8yjNLBVgGIjB",
        "outputId": "9ca7e5c6-604c-4c40-ece3-c339e449233d",
        "colab": {
          "base_uri": "https://localhost:8080/",
          "height": 34
        }
      },
      "source": [
        "c"
      ],
      "execution_count": 52,
      "outputs": [
        {
          "output_type": "execute_result",
          "data": {
            "text/plain": [
              "65"
            ]
          },
          "metadata": {
            "tags": []
          },
          "execution_count": 52
        }
      ]
    },
    {
      "cell_type": "code",
      "metadata": {
        "id": "0ysy-xy1G3A1"
      },
      "source": [
        "def my_matrix_vector_dot(x,y):\n",
        "  assert len(x.shape) == 2\n",
        "  assert len(y.shape) == 1\n",
        "  assert x.shape[1] == y.shape[0]\n",
        "\n",
        "  z = np.zeros(x.shape[0])\n",
        "  for i in range(x.shape[0]):\n",
        "    for j in range(x.shape[1]):\n",
        "      z[i] = z[i] + x[i,j] * y[j]\n",
        "  return z"
      ],
      "execution_count": 53,
      "outputs": []
    },
    {
      "cell_type": "code",
      "metadata": {
        "id": "Gj6xgde8Hlrp"
      },
      "source": [
        "a = np.array([[5, 78, 2, 34, 0],\n",
        "              [6, 79, 3, 35, 1],\n",
        "              [7, 80, 4, 36, 2]\n",
        "])"
      ],
      "execution_count": 54,
      "outputs": []
    },
    {
      "cell_type": "code",
      "metadata": {
        "id": "-AIFaxFzIJ58"
      },
      "source": [
        "b = np.array([3, 2, 4, 1, 5])"
      ],
      "execution_count": 55,
      "outputs": []
    },
    {
      "cell_type": "code",
      "metadata": {
        "id": "JtIrxOyhIO0n"
      },
      "source": [
        "c = my_matrix_vector_dot(a,b)"
      ],
      "execution_count": 56,
      "outputs": []
    },
    {
      "cell_type": "code",
      "metadata": {
        "id": "ZFivD_RkIfq7",
        "outputId": "afa96b25-7548-4c30-f4ff-428d88e0340d",
        "colab": {
          "base_uri": "https://localhost:8080/",
          "height": 34
        }
      },
      "source": [
        "c"
      ],
      "execution_count": 57,
      "outputs": [
        {
          "output_type": "execute_result",
          "data": {
            "text/plain": [
              "array([213., 228., 243.])"
            ]
          },
          "metadata": {
            "tags": []
          },
          "execution_count": 57
        }
      ]
    },
    {
      "cell_type": "code",
      "metadata": {
        "id": "I0IRCoesIw2K"
      },
      "source": [
        "def my_matrix_dot(x,y):\n",
        "  assert len(x.shape) == 2\n",
        "  assert len(y.shape) == 2\n",
        "  assert x.shape[1] == y.shape[0]\n",
        "\n",
        "  z = np.zeros((x.shape[0], y.shape[1]))\n",
        "  for i in range (x.shape[0]):\n",
        "    for j in range (y.shape[1]):\n",
        "      row_x = x[i, :]\n",
        "      column_y = y[:, j]\n",
        "      z[i, j] = my_vector_dot(row_x, column_y)\n",
        "  return z"
      ],
      "execution_count": 58,
      "outputs": []
    },
    {
      "cell_type": "code",
      "metadata": {
        "id": "M3YXirF_J9RV"
      },
      "source": [
        "a = np.array([[5, 7, 2, 34, 0],\n",
        "              [6, 7, 3, 35, 1],\n",
        "              [7, 8, 4, 36, 2]\n",
        "])"
      ],
      "execution_count": 59,
      "outputs": []
    },
    {
      "cell_type": "code",
      "metadata": {
        "id": "u8u1vjZVKMFY"
      },
      "source": [
        "b = np.array([\n",
        "              [4, 2, 1],\n",
        "              [6, 1, 3],\n",
        "              [7, 8, 4],\n",
        "              [3, 4, 5],\n",
        "              [2, 2, 2]\n",
        "])"
      ],
      "execution_count": 60,
      "outputs": []
    },
    {
      "cell_type": "code",
      "metadata": {
        "id": "0fb4eOElKfg_"
      },
      "source": [
        "c = my_matrix_dot(a,b)"
      ],
      "execution_count": 61,
      "outputs": []
    },
    {
      "cell_type": "code",
      "metadata": {
        "id": "t21HVxPAKzie",
        "outputId": "e1daa73d-8718-4889-a370-272fb7844268",
        "colab": {
          "base_uri": "https://localhost:8080/",
          "height": 68
        }
      },
      "source": [
        "c"
      ],
      "execution_count": 62,
      "outputs": [
        {
          "output_type": "execute_result",
          "data": {
            "text/plain": [
              "array([[178., 169., 204.],\n",
              "       [194., 185., 216.],\n",
              "       [216., 202., 231.]])"
            ]
          },
          "metadata": {
            "tags": []
          },
          "execution_count": 62
        }
      ]
    },
    {
      "cell_type": "markdown",
      "metadata": {
        "id": "uWxtQNNNLaxV"
      },
      "source": [
        "**Reshaping**"
      ]
    },
    {
      "cell_type": "code",
      "metadata": {
        "id": "DZs_S4eULca2"
      },
      "source": [
        "x = np.array([[0.2, 1.1],\n",
        "              [2.4, 3.5],\n",
        "              [4.1, 5.3]\n",
        "])"
      ],
      "execution_count": 63,
      "outputs": []
    },
    {
      "cell_type": "code",
      "metadata": {
        "id": "41yLoJdILvvk",
        "outputId": "da749da8-1418-4006-9a6a-595c0e46b3e6",
        "colab": {
          "base_uri": "https://localhost:8080/",
          "height": 68
        }
      },
      "source": [
        "x"
      ],
      "execution_count": 64,
      "outputs": [
        {
          "output_type": "execute_result",
          "data": {
            "text/plain": [
              "array([[0.2, 1.1],\n",
              "       [2.4, 3.5],\n",
              "       [4.1, 5.3]])"
            ]
          },
          "metadata": {
            "tags": []
          },
          "execution_count": 64
        }
      ]
    },
    {
      "cell_type": "code",
      "metadata": {
        "id": "9PfNCVFDLxIo",
        "outputId": "6db652e2-9ee7-43b7-faf5-d9015eafdfe8",
        "colab": {
          "base_uri": "https://localhost:8080/",
          "height": 34
        }
      },
      "source": [
        "x.shape"
      ],
      "execution_count": 65,
      "outputs": [
        {
          "output_type": "execute_result",
          "data": {
            "text/plain": [
              "(3, 2)"
            ]
          },
          "metadata": {
            "tags": []
          },
          "execution_count": 65
        }
      ]
    },
    {
      "cell_type": "code",
      "metadata": {
        "id": "HOkxDdKeL_K0"
      },
      "source": [
        "# reshape\n",
        "\n",
        "x = x.reshape((6, 1))"
      ],
      "execution_count": 66,
      "outputs": []
    },
    {
      "cell_type": "code",
      "metadata": {
        "id": "cakhcMbmMH_c",
        "outputId": "c10e4a0b-2764-4d52-b027-9d2e301139dc",
        "colab": {
          "base_uri": "https://localhost:8080/",
          "height": 34
        }
      },
      "source": [
        "x.shape"
      ],
      "execution_count": 67,
      "outputs": [
        {
          "output_type": "execute_result",
          "data": {
            "text/plain": [
              "(6, 1)"
            ]
          },
          "metadata": {
            "tags": []
          },
          "execution_count": 67
        }
      ]
    },
    {
      "cell_type": "code",
      "metadata": {
        "id": "V9Bz4X1xML45",
        "outputId": "9a09310f-bc3b-438f-8e3a-0850bb082f75",
        "colab": {
          "base_uri": "https://localhost:8080/",
          "height": 119
        }
      },
      "source": [
        "x"
      ],
      "execution_count": 68,
      "outputs": [
        {
          "output_type": "execute_result",
          "data": {
            "text/plain": [
              "array([[0.2],\n",
              "       [1.1],\n",
              "       [2.4],\n",
              "       [3.5],\n",
              "       [4.1],\n",
              "       [5.3]])"
            ]
          },
          "metadata": {
            "tags": []
          },
          "execution_count": 68
        }
      ]
    },
    {
      "cell_type": "code",
      "metadata": {
        "id": "TFcepE41Myq3"
      },
      "source": [
        "x = x.reshape((2,3))"
      ],
      "execution_count": 69,
      "outputs": []
    },
    {
      "cell_type": "code",
      "metadata": {
        "id": "qCZZqNj1M4qH",
        "outputId": "1ddfbceb-702e-4c69-9f69-6429730a2408",
        "colab": {
          "base_uri": "https://localhost:8080/",
          "height": 34
        }
      },
      "source": [
        "x.shape"
      ],
      "execution_count": 70,
      "outputs": [
        {
          "output_type": "execute_result",
          "data": {
            "text/plain": [
              "(2, 3)"
            ]
          },
          "metadata": {
            "tags": []
          },
          "execution_count": 70
        }
      ]
    },
    {
      "cell_type": "code",
      "metadata": {
        "id": "VAu-5_QfM5q3",
        "outputId": "0fbc2901-b976-4db8-b300-e185aee2bb8a",
        "colab": {
          "base_uri": "https://localhost:8080/",
          "height": 51
        }
      },
      "source": [
        "x"
      ],
      "execution_count": 71,
      "outputs": [
        {
          "output_type": "execute_result",
          "data": {
            "text/plain": [
              "array([[0.2, 1.1, 2.4],\n",
              "       [3.5, 4.1, 5.3]])"
            ]
          },
          "metadata": {
            "tags": []
          },
          "execution_count": 71
        }
      ]
    },
    {
      "cell_type": "markdown",
      "metadata": {
        "id": "xPaScNPcNF97"
      },
      "source": [
        "**Transpose**"
      ]
    },
    {
      "cell_type": "code",
      "metadata": {
        "id": "wULmTzR9NIOh"
      },
      "source": [
        "# Transpose\n",
        "\n",
        "x = np.zeros((300, 20)) # membuat matriks nol"
      ],
      "execution_count": 72,
      "outputs": []
    },
    {
      "cell_type": "code",
      "metadata": {
        "id": "lflLHFk2NP3g",
        "outputId": "da0a1e80-4b5c-47a4-c32c-9eb5812385ef",
        "colab": {
          "base_uri": "https://localhost:8080/",
          "height": 34
        }
      },
      "source": [
        "x.shape"
      ],
      "execution_count": 73,
      "outputs": [
        {
          "output_type": "execute_result",
          "data": {
            "text/plain": [
              "(300, 20)"
            ]
          },
          "metadata": {
            "tags": []
          },
          "execution_count": 73
        }
      ]
    },
    {
      "cell_type": "code",
      "metadata": {
        "id": "PYIjwaNRNRRR"
      },
      "source": [
        "# Ditransposkan\n",
        "\n",
        "y = np.transpose(x)"
      ],
      "execution_count": 74,
      "outputs": []
    },
    {
      "cell_type": "code",
      "metadata": {
        "id": "8xmJnR8ONaot",
        "outputId": "019fb0a2-57c9-4c44-d68c-907e6f779118",
        "colab": {
          "base_uri": "https://localhost:8080/",
          "height": 34
        }
      },
      "source": [
        "y.shape"
      ],
      "execution_count": 75,
      "outputs": [
        {
          "output_type": "execute_result",
          "data": {
            "text/plain": [
              "(20, 300)"
            ]
          },
          "metadata": {
            "tags": []
          },
          "execution_count": 75
        }
      ]
    }
  ]
}