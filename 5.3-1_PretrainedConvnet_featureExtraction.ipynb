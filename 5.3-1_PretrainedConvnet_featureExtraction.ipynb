{
 "cells": [
  {
   "cell_type": "code",
   "execution_count": 1,
   "metadata": {},
   "outputs": [
    {
     "name": "stderr",
     "output_type": "stream",
     "text": [
      "Using TensorFlow backend.\n"
     ]
    }
   ],
   "source": [
    "import keras"
   ]
  },
  {
   "cell_type": "code",
   "execution_count": 2,
   "metadata": {},
   "outputs": [],
   "source": [
    "from keras.applications import VGG16"
   ]
  },
  {
   "cell_type": "markdown",
   "metadata": {},
   "source": [
    "**About VGG16**\n",
    "\n",
    "VGG16 (also called OxfordNet) is a convolutional neural network architecture named after the Visual Geometry Group from Oxford, who developed it. It was used to win the ILSVR (ImageNet) competition in 2014.\n",
    "\n",
    "https://keras.io/applications/\n",
    "\n",
    "**Step 1 : Setting VGG16 convolutional based**"
   ]
  },
  {
   "cell_type": "code",
   "execution_count": 3,
   "metadata": {},
   "outputs": [
    {
     "data": {
      "text/plain": [
       "'2.3.1'"
      ]
     },
     "execution_count": 3,
     "metadata": {},
     "output_type": "execute_result"
    }
   ],
   "source": [
    "keras.__version__"
   ]
  },
  {
   "cell_type": "code",
   "execution_count": 4,
   "metadata": {},
   "outputs": [],
   "source": [
    "wt_imagenet_file = \"H:\\Professional Certification\\vgg16_weights_tf_dim_ordering_tf_kernels_notop.h5\""
   ]
  },
  {
   "cell_type": "code",
   "execution_count": 5,
   "metadata": {},
   "outputs": [
    {
     "name": "stdout",
     "output_type": "stream",
     "text": [
      "WARNING:tensorflow:From C:\\Users\\lenovo\\Anaconda3\\lib\\site-packages\\tensorflow\\python\\ops\\resource_variable_ops.py:435: colocate_with (from tensorflow.python.framework.ops) is deprecated and will be removed in a future version.\n",
      "Instructions for updating:\n",
      "Colocations handled automatically by placer.\n"
     ]
    }
   ],
   "source": [
    "conv_base = VGG16(weights = 'imagenet', include_top = False, input_shape = (150, 150, 3))"
   ]
  },
  {
   "cell_type": "code",
   "execution_count": 6,
   "metadata": {},
   "outputs": [
    {
     "name": "stdout",
     "output_type": "stream",
     "text": [
      "Model: \"vgg16\"\n",
      "_________________________________________________________________\n",
      "Layer (type)                 Output Shape              Param #   \n",
      "=================================================================\n",
      "input_1 (InputLayer)         (None, 150, 150, 3)       0         \n",
      "_________________________________________________________________\n",
      "block1_conv1 (Conv2D)        (None, 150, 150, 64)      1792      \n",
      "_________________________________________________________________\n",
      "block1_conv2 (Conv2D)        (None, 150, 150, 64)      36928     \n",
      "_________________________________________________________________\n",
      "block1_pool (MaxPooling2D)   (None, 75, 75, 64)        0         \n",
      "_________________________________________________________________\n",
      "block2_conv1 (Conv2D)        (None, 75, 75, 128)       73856     \n",
      "_________________________________________________________________\n",
      "block2_conv2 (Conv2D)        (None, 75, 75, 128)       147584    \n",
      "_________________________________________________________________\n",
      "block2_pool (MaxPooling2D)   (None, 37, 37, 128)       0         \n",
      "_________________________________________________________________\n",
      "block3_conv1 (Conv2D)        (None, 37, 37, 256)       295168    \n",
      "_________________________________________________________________\n",
      "block3_conv2 (Conv2D)        (None, 37, 37, 256)       590080    \n",
      "_________________________________________________________________\n",
      "block3_conv3 (Conv2D)        (None, 37, 37, 256)       590080    \n",
      "_________________________________________________________________\n",
      "block3_pool (MaxPooling2D)   (None, 18, 18, 256)       0         \n",
      "_________________________________________________________________\n",
      "block4_conv1 (Conv2D)        (None, 18, 18, 512)       1180160   \n",
      "_________________________________________________________________\n",
      "block4_conv2 (Conv2D)        (None, 18, 18, 512)       2359808   \n",
      "_________________________________________________________________\n",
      "block4_conv3 (Conv2D)        (None, 18, 18, 512)       2359808   \n",
      "_________________________________________________________________\n",
      "block4_pool (MaxPooling2D)   (None, 9, 9, 512)         0         \n",
      "_________________________________________________________________\n",
      "block5_conv1 (Conv2D)        (None, 9, 9, 512)         2359808   \n",
      "_________________________________________________________________\n",
      "block5_conv2 (Conv2D)        (None, 9, 9, 512)         2359808   \n",
      "_________________________________________________________________\n",
      "block5_conv3 (Conv2D)        (None, 9, 9, 512)         2359808   \n",
      "_________________________________________________________________\n",
      "block5_pool (MaxPooling2D)   (None, 4, 4, 512)         0         \n",
      "=================================================================\n",
      "Total params: 14,714,688\n",
      "Trainable params: 14,714,688\n",
      "Non-trainable params: 0\n",
      "_________________________________________________________________\n"
     ]
    }
   ],
   "source": [
    "conv_base.summary()"
   ]
  },
  {
   "cell_type": "markdown",
   "metadata": {},
   "source": [
    "**FEATURE EXTRACTION**"
   ]
  },
  {
   "cell_type": "code",
   "execution_count": 7,
   "metadata": {},
   "outputs": [],
   "source": [
    "import os, shutil"
   ]
  },
  {
   "cell_type": "code",
   "execution_count": 8,
   "metadata": {},
   "outputs": [],
   "source": [
    "original_dataset_dir = \"H:\\Professional Certification\\Deep Learning-Udemy-October 2020\\PetImages\""
   ]
  },
  {
   "cell_type": "code",
   "execution_count": 9,
   "metadata": {},
   "outputs": [],
   "source": [
    "base_dir = \"H:\\Professional Certification\\Deep Learning-Udemy-October 2020\\cats_dogs_verysmall\""
   ]
  },
  {
   "cell_type": "markdown",
   "metadata": {},
   "source": [
    "**Run Only Once**"
   ]
  },
  {
   "cell_type": "code",
   "execution_count": null,
   "metadata": {},
   "outputs": [],
   "source": [
    "os.mkdir(base_dir)"
   ]
  },
  {
   "cell_type": "markdown",
   "metadata": {},
   "source": [
    "**Run Always**"
   ]
  },
  {
   "cell_type": "code",
   "execution_count": 10,
   "metadata": {},
   "outputs": [],
   "source": [
    "train_dir = os.path.join(base_dir, 'train')\n",
    "\n",
    "validation_dir = os.path.join(base_dir, 'validation')"
   ]
  },
  {
   "cell_type": "markdown",
   "metadata": {},
   "source": [
    "**Run Only Once**"
   ]
  },
  {
   "cell_type": "code",
   "execution_count": null,
   "metadata": {},
   "outputs": [],
   "source": [
    "os.mkdir(train_dir)\n",
    "\n",
    "os.mkdir(validation_dir)"
   ]
  },
  {
   "cell_type": "markdown",
   "metadata": {},
   "source": [
    "**Run Always**"
   ]
  },
  {
   "cell_type": "code",
   "execution_count": 11,
   "metadata": {},
   "outputs": [],
   "source": [
    "train_cats_dir = os.path.join(train_dir, 'cats')\n",
    "\n",
    "train_dogs_dir = os.path.join(train_dir, 'dogs')\n",
    "\n",
    "validation_cats_dir = os.path.join(validation_dir, 'cats')\n",
    "\n",
    "validation_dogs_dir = os.path.join(validation_dir, 'dogs')"
   ]
  },
  {
   "cell_type": "markdown",
   "metadata": {},
   "source": [
    "**Run Only Once**"
   ]
  },
  {
   "cell_type": "code",
   "execution_count": null,
   "metadata": {},
   "outputs": [],
   "source": [
    "os.mkdir(train_cats_dir)\n",
    "os.mkdir(train_dogs_dir)\n",
    "\n",
    "os.mkdir(validation_cats_dir)\n",
    "os.mkdir(validation_dogs_dir)"
   ]
  },
  {
   "cell_type": "code",
   "execution_count": 16,
   "metadata": {},
   "outputs": [],
   "source": [
    "TrainImages_Count = 200 #Change it as per you need\n",
    "ValImages_End = 300 #Change it as per you need"
   ]
  },
  {
   "cell_type": "markdown",
   "metadata": {},
   "source": [
    "**Run Always**"
   ]
  },
  {
   "cell_type": "code",
   "execution_count": 12,
   "metadata": {},
   "outputs": [
    {
     "data": {
      "text/plain": [
       "'H:\\\\Professional Certification\\\\Deep Learning-Udemy-October 2020\\\\PetImages\\\\Cat'"
      ]
     },
     "execution_count": 12,
     "metadata": {},
     "output_type": "execute_result"
    }
   ],
   "source": [
    "orig_dir_cat = os.path.join(original_dataset_dir, 'Cat')\n",
    "orig_dir_cat"
   ]
  },
  {
   "cell_type": "markdown",
   "metadata": {},
   "source": [
    "**Run Only Once**"
   ]
  },
  {
   "cell_type": "code",
   "execution_count": 18,
   "metadata": {},
   "outputs": [],
   "source": [
    "fnames = ['{}.jpg'.format(i) for i in range(TrainImages_Count)]\n",
    "for fname in fnames:\n",
    "    src = os.path.join(orig_dir_cat, fname)\n",
    "    dst = os.path.join(train_cats_dir, fname)\n",
    "    shutil.copyfile(src, dst)\n",
    "    \n",
    "fnames = ['{}.jpg'.format(i) for i in range(TrainImages_Count, ValImages_End)]\n",
    "for fname in fnames:\n",
    "    src = os.path.join(orig_dir_cat, fname)\n",
    "    dst = os.path.join(validation_cats_dir, fname)\n",
    "    shutil.copyfile(src, dst)"
   ]
  },
  {
   "cell_type": "markdown",
   "metadata": {},
   "source": [
    "**Run Always**"
   ]
  },
  {
   "cell_type": "code",
   "execution_count": 13,
   "metadata": {},
   "outputs": [
    {
     "data": {
      "text/plain": [
       "'H:\\\\Professional Certification\\\\Deep Learning-Udemy-October 2020\\\\PetImages\\\\Dog'"
      ]
     },
     "execution_count": 13,
     "metadata": {},
     "output_type": "execute_result"
    }
   ],
   "source": [
    "orig_dir_dog = os.path.join(original_dataset_dir, 'Dog')\n",
    "orig_dir_dog"
   ]
  },
  {
   "cell_type": "markdown",
   "metadata": {},
   "source": [
    "**Run Only Once**"
   ]
  },
  {
   "cell_type": "code",
   "execution_count": 20,
   "metadata": {},
   "outputs": [],
   "source": [
    "fnames = ['{}.jpg'.format(i) for i in range(TrainImages_Count)]\n",
    "for fname in fnames:\n",
    "    src = os.path.join(orig_dir_dog, fname)\n",
    "    dst = os.path.join(train_dogs_dir, fname)\n",
    "    shutil.copyfile(src, dst)\n",
    "    \n",
    "fnames = ['{}.jpg'.format(i) for i in range(TrainImages_Count, ValImages_End)]\n",
    "for fname in fnames:\n",
    "    src = os.path.join(orig_dir_dog, fname)\n",
    "    dst = os.path.join(validation_dogs_dir, fname)\n",
    "    shutil.copyfile(src, dst)"
   ]
  },
  {
   "cell_type": "markdown",
   "metadata": {},
   "source": [
    "**Print Information**"
   ]
  },
  {
   "cell_type": "code",
   "execution_count": 14,
   "metadata": {},
   "outputs": [
    {
     "name": "stdout",
     "output_type": "stream",
     "text": [
      "total training cat images: 200\n",
      "total training dog images: 200\n",
      "total validation cat images: 100\n",
      "total validation dog images: 100\n"
     ]
    }
   ],
   "source": [
    "print('total training cat images:', len(os.listdir(train_cats_dir)))\n",
    "\n",
    "print('total training dog images:', len(os.listdir(train_dogs_dir)))\n",
    "\n",
    "print('total validation cat images:', len(os.listdir(validation_cats_dir)))\n",
    "\n",
    "print('total validation dog images:', len(os.listdir(validation_dogs_dir)))"
   ]
  },
  {
   "cell_type": "markdown",
   "metadata": {},
   "source": [
    "**Step 0 : Ensure to have directories created (train_dir, validation_dir)**\n",
    "\n",
    "**ref ImageClassification_Convnets_.ipynb (Ref : Previous code)**"
   ]
  },
  {
   "cell_type": "markdown",
   "metadata": {},
   "source": [
    "**Note**\n",
    "\n",
    "**The final feature map has shape (4, 4, 512).**"
   ]
  },
  {
   "cell_type": "markdown",
   "metadata": {},
   "source": [
    "**Step 2a : FEATURE EXTRACTION using numpy array (i.e without DATA AUGMENTATION)**"
   ]
  },
  {
   "cell_type": "code",
   "execution_count": 15,
   "metadata": {},
   "outputs": [],
   "source": [
    "import os\n",
    "import numpy as np \n",
    "from keras.preprocessing.image import ImageDataGenerator"
   ]
  },
  {
   "cell_type": "code",
   "execution_count": 16,
   "metadata": {},
   "outputs": [],
   "source": [
    "datagen = ImageDataGenerator(rescale=1./255)\n",
    "batch_size = 20"
   ]
  },
  {
   "cell_type": "code",
   "execution_count": 17,
   "metadata": {},
   "outputs": [],
   "source": [
    "def extract_features(directory, sample_count):\n",
    "    \n",
    "    features = np.zeros(shape = (sample_count, 4, 4, 512))\n",
    "    labels = np.zeros(shape = (sample_count))\n",
    "    \n",
    "    generator = datagen.flow_from_directory(\n",
    "        directory, \n",
    "        target_size = (150, 150),\n",
    "        batch_size = batch_size,\n",
    "        class_mode = 'binary')\n",
    "    \n",
    "    i = 0\n",
    "    \n",
    "    for inputs_batch, labels_batch in generator:\n",
    "        features_batch = conv_base.predict(inputs_batch)\n",
    "        \n",
    "        features[i * batch_size : (i + 1) * batch_size] = features_batch\n",
    "        labels[i * batch_size : (i + 1) * batch_size] = labels_batch\n",
    "        \n",
    "        i = i + 1\n",
    "        print(\"i : \", i)\n",
    "        \n",
    "        if i * batch_size >= sample_count:\n",
    "            print(\"loop broken\")\n",
    "            break\n",
    "            \n",
    "    return features, labels"
   ]
  },
  {
   "cell_type": "code",
   "execution_count": 18,
   "metadata": {},
   "outputs": [
    {
     "name": "stdout",
     "output_type": "stream",
     "text": [
      "Found 400 images belonging to 2 classes.\n",
      "i :  1\n",
      "i :  2\n",
      "i :  3\n",
      "i :  4\n",
      "i :  5\n",
      "i :  6\n",
      "i :  7\n",
      "i :  8\n",
      "i :  9\n",
      "i :  10\n",
      "loop broken\n"
     ]
    }
   ],
   "source": [
    "train_img_cnt = 200 #2000\n",
    "train_features, train_labels = extract_features(train_dir, train_img_cnt) #2000"
   ]
  },
  {
   "cell_type": "code",
   "execution_count": 19,
   "metadata": {},
   "outputs": [
    {
     "name": "stdout",
     "output_type": "stream",
     "text": [
      "Found 200 images belonging to 2 classes.\n",
      "i :  1\n",
      "i :  2\n",
      "i :  3\n",
      "i :  4\n",
      "i :  5\n",
      "loop broken\n"
     ]
    }
   ],
   "source": [
    "val_img_cnt = 100 #2000\n",
    "validation_features, validation_labels = extract_features(validation_dir, val_img_cnt) #1000"
   ]
  },
  {
   "cell_type": "markdown",
   "metadata": {},
   "source": [
    "**Flatten**\n",
    "\n",
    "The extracted features are currently of shape (samples, 4, 4, 512)\n",
    "\n",
    "Before feeding them to a densely connected classifier, first flatten them to (samples, 8192)."
   ]
  },
  {
   "cell_type": "code",
   "execution_count": 20,
   "metadata": {},
   "outputs": [],
   "source": [
    "train_features = np.reshape(train_features, (train_img_cnt, 4 * 4 * 512))"
   ]
  },
  {
   "cell_type": "code",
   "execution_count": 21,
   "metadata": {},
   "outputs": [],
   "source": [
    "validation_features = np.reshape(validation_features, (val_img_cnt, 4 * 4 * 512))"
   ]
  },
  {
   "cell_type": "markdown",
   "metadata": {},
   "source": [
    "**Step 3 : Defining and training densely connected classifier**"
   ]
  },
  {
   "cell_type": "code",
   "execution_count": 22,
   "metadata": {},
   "outputs": [],
   "source": [
    "from tensorflow import keras\n",
    "from keras import models\n",
    "from keras import layers\n",
    "from keras import optimizers"
   ]
  },
  {
   "cell_type": "code",
   "execution_count": 23,
   "metadata": {},
   "outputs": [],
   "source": [
    "model = models.Sequential()\n",
    "model.add(layers.Dense(256, activation = 'relu', input_dim = 4 * 4 * 512))\n",
    "model.add(layers.Dropout(0.5))\n",
    "model.add(layers.Dense(1, activation = 'sigmoid'))"
   ]
  },
  {
   "cell_type": "code",
   "execution_count": 24,
   "metadata": {},
   "outputs": [],
   "source": [
    "model.compile(optimizer = optimizers.RMSprop(lr=2e-5),\n",
    "             loss = 'binary_crossentropy',\n",
    "             metrics = ['acc'])"
   ]
  },
  {
   "cell_type": "code",
   "execution_count": 25,
   "metadata": {},
   "outputs": [
    {
     "name": "stdout",
     "output_type": "stream",
     "text": [
      "WARNING:tensorflow:From C:\\Users\\lenovo\\Anaconda3\\lib\\site-packages\\tensorflow\\python\\ops\\math_ops.py:3066: to_int32 (from tensorflow.python.ops.math_ops) is deprecated and will be removed in a future version.\n",
      "Instructions for updating:\n",
      "Use tf.cast instead.\n",
      "Train on 200 samples, validate on 100 samples\n",
      "Epoch 1/30\n",
      "200/200 [==============================] - 2s 9ms/step - loss: 0.8003 - acc: 0.4600 - val_loss: 0.6708 - val_acc: 0.5600\n",
      "Epoch 2/30\n",
      "200/200 [==============================] - 0s 2ms/step - loss: 0.6658 - acc: 0.6100 - val_loss: 0.6381 - val_acc: 0.6300\n",
      "Epoch 3/30\n",
      "200/200 [==============================] - 0s 2ms/step - loss: 0.6145 - acc: 0.6550 - val_loss: 0.6165 - val_acc: 0.6200\n",
      "Epoch 4/30\n",
      "200/200 [==============================] - 0s 2ms/step - loss: 0.5542 - acc: 0.7100 - val_loss: 0.5933 - val_acc: 0.6800\n",
      "Epoch 5/30\n",
      "200/200 [==============================] - 0s 2ms/step - loss: 0.5129 - acc: 0.7600 - val_loss: 0.5509 - val_acc: 0.7300\n",
      "Epoch 6/30\n",
      "200/200 [==============================] - 0s 2ms/step - loss: 0.5158 - acc: 0.7500 - val_loss: 0.5242 - val_acc: 0.7800\n",
      "Epoch 7/30\n",
      "200/200 [==============================] - 0s 2ms/step - loss: 0.4631 - acc: 0.7950 - val_loss: 0.4993 - val_acc: 0.8200\n",
      "Epoch 8/30\n",
      "200/200 [==============================] - 0s 2ms/step - loss: 0.4090 - acc: 0.8300 - val_loss: 0.4757 - val_acc: 0.8200\n",
      "Epoch 9/30\n",
      "200/200 [==============================] - 0s 2ms/step - loss: 0.3737 - acc: 0.8750 - val_loss: 0.4632 - val_acc: 0.8400\n",
      "Epoch 10/30\n",
      "200/200 [==============================] - 0s 2ms/step - loss: 0.3977 - acc: 0.8400 - val_loss: 0.4468 - val_acc: 0.8500\n",
      "Epoch 11/30\n",
      "200/200 [==============================] - 0s 2ms/step - loss: 0.3574 - acc: 0.8650 - val_loss: 0.4278 - val_acc: 0.8500\n",
      "Epoch 12/30\n",
      "200/200 [==============================] - 0s 2ms/step - loss: 0.3315 - acc: 0.8950 - val_loss: 0.4218 - val_acc: 0.8700\n",
      "Epoch 13/30\n",
      "200/200 [==============================] - 0s 2ms/step - loss: 0.3102 - acc: 0.9100 - val_loss: 0.4130 - val_acc: 0.8600\n",
      "Epoch 14/30\n",
      "200/200 [==============================] - 0s 2ms/step - loss: 0.3037 - acc: 0.9100 - val_loss: 0.4048 - val_acc: 0.8700\n",
      "Epoch 15/30\n",
      "200/200 [==============================] - 0s 2ms/step - loss: 0.2848 - acc: 0.9250 - val_loss: 0.3873 - val_acc: 0.8400\n",
      "Epoch 16/30\n",
      "200/200 [==============================] - 0s 2ms/step - loss: 0.2533 - acc: 0.9300 - val_loss: 0.4040 - val_acc: 0.8600\n",
      "Epoch 17/30\n",
      "200/200 [==============================] - 0s 2ms/step - loss: 0.2545 - acc: 0.9400 - val_loss: 0.3805 - val_acc: 0.8500\n",
      "Epoch 18/30\n",
      "200/200 [==============================] - 0s 2ms/step - loss: 0.2512 - acc: 0.9250 - val_loss: 0.3807 - val_acc: 0.8700\n",
      "Epoch 19/30\n",
      "200/200 [==============================] - 0s 2ms/step - loss: 0.2192 - acc: 0.9500 - val_loss: 0.3937 - val_acc: 0.8500\n",
      "Epoch 20/30\n",
      "200/200 [==============================] - 0s 2ms/step - loss: 0.2131 - acc: 0.9400 - val_loss: 0.3646 - val_acc: 0.8500\n",
      "Epoch 21/30\n",
      "200/200 [==============================] - 0s 2ms/step - loss: 0.2021 - acc: 0.9650 - val_loss: 0.3627 - val_acc: 0.8600\n",
      "Epoch 22/30\n",
      "200/200 [==============================] - 0s 2ms/step - loss: 0.2055 - acc: 0.9500 - val_loss: 0.3624 - val_acc: 0.8700\n",
      "Epoch 23/30\n",
      "200/200 [==============================] - 0s 2ms/step - loss: 0.1871 - acc: 0.9600 - val_loss: 0.3456 - val_acc: 0.8800\n",
      "Epoch 24/30\n",
      "200/200 [==============================] - 0s 2ms/step - loss: 0.1769 - acc: 0.9600 - val_loss: 0.3542 - val_acc: 0.8500\n",
      "Epoch 25/30\n",
      "200/200 [==============================] - 0s 2ms/step - loss: 0.1548 - acc: 0.9800 - val_loss: 0.3417 - val_acc: 0.8700\n",
      "Epoch 26/30\n",
      "200/200 [==============================] - 0s 2ms/step - loss: 0.1634 - acc: 0.9850 - val_loss: 0.3408 - val_acc: 0.8700\n",
      "Epoch 27/30\n",
      "200/200 [==============================] - 0s 2ms/step - loss: 0.1434 - acc: 0.9850 - val_loss: 0.3453 - val_acc: 0.8500\n",
      "Epoch 28/30\n",
      "200/200 [==============================] - 0s 2ms/step - loss: 0.1330 - acc: 0.9850 - val_loss: 0.3381 - val_acc: 0.8600\n",
      "Epoch 29/30\n",
      "200/200 [==============================] - 0s 2ms/step - loss: 0.1530 - acc: 0.9750 - val_loss: 0.3266 - val_acc: 0.8900\n",
      "Epoch 30/30\n",
      "200/200 [==============================] - 0s 2ms/step - loss: 0.1156 - acc: 0.9950 - val_loss: 0.3407 - val_acc: 0.8500\n"
     ]
    }
   ],
   "source": [
    "# epochs = 30, make it 10 to get a faster execution\n",
    "\n",
    "history = model.fit(train_features, train_labels, \n",
    "                   epochs = 30, batch_size = 20,\n",
    "                   validation_data = (validation_features, validation_labels))"
   ]
  },
  {
   "cell_type": "markdown",
   "metadata": {},
   "source": [
    "**Step 4a : Plot the results**"
   ]
  },
  {
   "cell_type": "code",
   "execution_count": 26,
   "metadata": {},
   "outputs": [],
   "source": [
    "import matplotlib.pyplot as plt"
   ]
  },
  {
   "cell_type": "code",
   "execution_count": 27,
   "metadata": {},
   "outputs": [
    {
     "data": {
      "image/png": "[encoded data removed]",
      "text/plain": [
       "<Figure size 432x288 with 1 Axes>"
      ]
     },
     "metadata": {
      "needs_background": "light"
     },
     "output_type": "display_data"
    },
    {
     "data": {
      "image/png": "[encoded data removed]",
      "text/plain": [
       "<Figure size 432x288 with 1 Axes>"
      ]
     },
     "metadata": {
      "needs_background": "light"
     },
     "output_type": "display_data"
    }
   ],
   "source": [
    "acc = history.history['acc']\n",
    "val_acc = history.history['val_acc']\n",
    "loss = history.history['loss']\n",
    "val_loss = history.history['val_loss']\n",
    "\n",
    "epochs = range(1, len(acc) + 1)\n",
    "\n",
    "plt.plot(epochs, acc, 'bo', label='Training acc')\n",
    "plt.plot(epochs, val_acc, 'b', label='Validation acc')\n",
    "plt.title('Training and Validation accuracy')\n",
    "plt.legend()\n",
    "\n",
    "plt.figure()\n",
    "\n",
    "plt.plot(epochs, loss, 'bo', label='Training loss')\n",
    "plt.plot(epochs, val_loss, 'b', label='Validation loss')\n",
    "plt.title('Training and Validation loss')\n",
    "plt.legend()\n",
    "\n",
    "plt.show()"
   ]
  },
  {
   "cell_type": "markdown",
   "metadata": {},
   "source": [
    "**Step 2b : FEATURE EXTRACTION with AUGMENTATION**\n",
    "\n",
    "Extremely slow and demands CPU / GPU heavily"
   ]
  },
  {
   "cell_type": "code",
   "execution_count": 28,
   "metadata": {},
   "outputs": [],
   "source": [
    "from keras import models\n",
    "from keras import layers"
   ]
  },
  {
   "cell_type": "code",
   "execution_count": 32,
   "metadata": {},
   "outputs": [],
   "source": [
    "model1 = models.Sequential()"
   ]
  },
  {
   "cell_type": "code",
   "execution_count": 33,
   "metadata": {},
   "outputs": [],
   "source": [
    "model1.add(conv_base)\n",
    "model1.add(layers.Flatten())\n",
    "model1.add(layers.Dense(256, activation = 'relu'))\n",
    "model1.add(layers.Dense(1, activation = 'sigmoid'))"
   ]
  },
  {
   "cell_type": "code",
   "execution_count": 34,
   "metadata": {},
   "outputs": [
    {
     "name": "stdout",
     "output_type": "stream",
     "text": [
      "Model: \"sequential_3\"\n",
      "_________________________________________________________________\n",
      "Layer (type)                 Output Shape              Param #   \n",
      "=================================================================\n",
      "vgg16 (Model)                (None, 4, 4, 512)         14714688  \n",
      "_________________________________________________________________\n",
      "flatten_2 (Flatten)          (None, 8192)              0         \n",
      "_________________________________________________________________\n",
      "dense_5 (Dense)              (None, 256)               2097408   \n",
      "_________________________________________________________________\n",
      "dense_6 (Dense)              (None, 1)                 257       \n",
      "=================================================================\n",
      "Total params: 16,812,353\n",
      "Trainable params: 16,812,353\n",
      "Non-trainable params: 0\n",
      "_________________________________________________________________\n"
     ]
    }
   ],
   "source": [
    "model1.summary()"
   ]
  },
  {
   "cell_type": "code",
   "execution_count": null,
   "metadata": {},
   "outputs": [],
   "source": [
    "#print('This is the number of trainable weights' 'before freezing the conv base:', len(model1.trainable)"
   ]
  },
  {
   "cell_type": "code",
   "execution_count": 38,
   "metadata": {},
   "outputs": [],
   "source": [
    "conv_base.trainable = False"
   ]
  },
  {
   "cell_type": "code",
   "execution_count": null,
   "metadata": {},
   "outputs": [],
   "source": [
    "#print('This is the number of trainable weights' 'after freezing the conv base:', len(model1.trainable)"
   ]
  },
  {
   "cell_type": "code",
   "execution_count": 39,
   "metadata": {},
   "outputs": [],
   "source": [
    "train_datagen = ImageDataGenerator(rescale=1./255,\n",
    "                                  rotation_range=40,\n",
    "                                  width_shift_range=0.2,\n",
    "                                  height_shift_range=0.2,\n",
    "                                  shear_range=0.2,\n",
    "                                  zoom_range=0.2,\n",
    "                                  horizontal_flip=True,\n",
    "                                  fill_mode='nearest')"
   ]
  },
  {
   "cell_type": "code",
   "execution_count": 40,
   "metadata": {},
   "outputs": [],
   "source": [
    "test_datagen = ImageDataGenerator(rescale=1./255)"
   ]
  },
  {
   "cell_type": "code",
   "execution_count": 41,
   "metadata": {},
   "outputs": [
    {
     "name": "stdout",
     "output_type": "stream",
     "text": [
      "Found 400 images belonging to 2 classes.\n"
     ]
    }
   ],
   "source": [
    "train_generator = train_datagen.flow_from_directory(train_dir,\n",
    "                                                   target_size=(150,150),\n",
    "                                                   batch_size=20,\n",
    "                                                   class_mode='binary')"
   ]
  },
  {
   "cell_type": "code",
   "execution_count": 42,
   "metadata": {},
   "outputs": [
    {
     "name": "stdout",
     "output_type": "stream",
     "text": [
      "Found 200 images belonging to 2 classes.\n"
     ]
    }
   ],
   "source": [
    "validation_generator = train_datagen.flow_from_directory(validation_dir,\n",
    "                                                   target_size=(150,150),\n",
    "                                                   batch_size=20,\n",
    "                                                   class_mode='binary')"
   ]
  },
  {
   "cell_type": "code",
   "execution_count": 43,
   "metadata": {},
   "outputs": [],
   "source": [
    "model1.compile(loss='binary_crossentropy',\n",
    "              optimizer=optimizers.RMSprop(lr=2e-5),\n",
    "              metrics=['acc'])"
   ]
  },
  {
   "cell_type": "markdown",
   "metadata": {},
   "source": [
    "**fit_generator() is very slow and loads CPU, so run only if really really needed**"
   ]
  },
  {
   "cell_type": "code",
   "execution_count": 46,
   "metadata": {},
   "outputs": [
    {
     "name": "stdout",
     "output_type": "stream",
     "text": [
      "Epoch 1/2\n",
      "100/100 [==============================] - 1048s 10s/step - loss: 0.5863 - acc: 0.7080 - val_loss: 0.4304 - val_acc: 0.7450\n",
      "Epoch 2/2\n",
      "100/100 [==============================] - 968s 10s/step - loss: 0.4459 - acc: 0.8090 - val_loss: 0.4776 - val_acc: 0.7910\n"
     ]
    }
   ],
   "source": [
    "#This is extremely slow\n",
    "history = model1.fit_generator(train_generator,\n",
    "                             steps_per_epoch=100,\n",
    "                             epochs=2,\n",
    "                             validation_data=validation_generator,\n",
    "                             validation_steps=50)"
   ]
  },
  {
   "cell_type": "code",
   "execution_count": 47,
   "metadata": {},
   "outputs": [],
   "source": [
    "import matplotlib.pyplot as plt"
   ]
  },
  {
   "cell_type": "code",
   "execution_count": 48,
   "metadata": {},
   "outputs": [
    {
     "data": {
      "image/png": "[encoded data removed]",
      "text/plain": [
       "<Figure size 432x288 with 1 Axes>"
      ]
     },
     "metadata": {
      "needs_background": "light"
     },
     "output_type": "display_data"
    },
    {
     "data": {
      "image/png": "[encoded data removed]",
      "text/plain": [
       "<Figure size 432x288 with 1 Axes>"
      ]
     },
     "metadata": {
      "needs_background": "light"
     },
     "output_type": "display_data"
    }
   ],
   "source": [
    "acc = history.history['acc']\n",
    "val_acc = history.history['val_acc']\n",
    "loss = history.history['loss']\n",
    "val_loss = history.history['val_loss']\n",
    "\n",
    "epochs = range(1, len(acc) + 1)\n",
    "\n",
    "plt.plot(epochs, acc, 'bo', label='Training acc')\n",
    "plt.plot(epochs, val_acc, 'b', label='Validation acc')\n",
    "plt.title('Training and Validation accuracy')\n",
    "plt.legend()\n",
    "\n",
    "plt.figure()\n",
    "\n",
    "plt.plot(epochs, loss, 'bo', label='Training loss')\n",
    "plt.plot(epochs, val_loss, 'b', label='Validation loss')\n",
    "plt.title('Training and Validation loss')\n",
    "plt.legend()\n",
    "\n",
    "plt.show()"
   ]
  },
  {
   "cell_type": "code",
   "execution_count": null,
   "metadata": {},
   "outputs": [],
   "source": []
  }
 ],
 "metadata": {
  "kernelspec": {
   "display_name": "Python 3",
   "language": "python",
   "name": "python3"
  },
  "language_info": {
   "codemirror_mode": {
    "name": "ipython",
    "version": 3
   },
   "file_extension": ".py",
   "mimetype": "text/x-python",
   "name": "python",
   "nbconvert_exporter": "python",
   "pygments_lexer": "ipython3",
   "version": "3.7.1"
  }
 },
 "nbformat": 4,
 "nbformat_minor": 2
}
